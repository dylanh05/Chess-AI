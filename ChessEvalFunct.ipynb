{
  "nbformat": 4,
  "nbformat_minor": 0,
  "metadata": {
    "colab": {
      "name": "ChessEvalFunct.ipynb",
      "provenance": [],
      "collapsed_sections": []
    },
    "kernelspec": {
      "name": "python3",
      "display_name": "Python 3"
    }
  },
  "cells": [
    {
      "cell_type": "markdown",
      "metadata": {
        "id": "sQoXAtSL5KD-",
        "colab_type": "text"
      },
      "source": [
        "## **Simple Chess Evaluation Function**\n",
        "Dylan Herrera \\\n",
        "Uses NN architecture from this [paper](https://www.ai.rug.nl/~mwiering/GROUP/ARTICLES/ICPRAM_CHESS_DNN_2018.pdf)"
      ]
    },
    {
      "cell_type": "code",
      "metadata": {
        "id": "Fu1EFUqytDxL",
        "colab_type": "code",
        "outputId": "450351b8-5c4b-44c6-a73e-0b564ae445d8",
        "colab": {
          "base_uri": "https://localhost:8080/",
          "height": 35
        }
      },
      "source": [
        "!pip install numpy==1.16.2\n",
        "import tensorflow as tf\n",
        "from tensorflow import keras as ks\n",
        "import pandas as pd\n",
        "import numpy as np\n",
        "from google.colab import drive"
      ],
      "execution_count": 1,
      "outputs": [
        {
          "output_type": "stream",
          "text": [
            "Requirement already satisfied: numpy==1.16.2 in /usr/local/lib/python3.6/dist-packages (1.16.2)\n"
          ],
          "name": "stdout"
        }
      ]
    },
    {
      "cell_type": "code",
      "metadata": {
        "id": "5yupnegzSX6N",
        "colab_type": "code",
        "colab": {}
      },
      "source": [
        "#drive.mount('/content/drive')"
      ],
      "execution_count": 0,
      "outputs": []
    },
    {
      "cell_type": "code",
      "metadata": {
        "id": "GQCN6NFBw2gv",
        "colab_type": "code",
        "colab": {}
      },
      "source": [
        "with open('/content/drive/My Drive/Colab Notebooks/Chess/data/scores.npy', 'rb') as f:\n",
        "  scores = np.load(f)"
      ],
      "execution_count": 0,
      "outputs": []
    },
    {
      "cell_type": "code",
      "metadata": {
        "id": "4den90zp66TR",
        "colab_type": "code",
        "colab": {}
      },
      "source": [
        "with open('/content/drive/My Drive/Colab Notebooks/Chess/data/positions.npy', 'rb') as f: \n",
        "  positions = np.load(f)"
      ],
      "execution_count": 0,
      "outputs": []
    },
    {
      "cell_type": "code",
      "metadata": {
        "id": "xl6wcORq5AXE",
        "colab_type": "code",
        "colab": {}
      },
      "source": [
        "from sklearn.model_selection import train_test_split\n",
        "X = np.array(positions)\n",
        "Y = np.array(scores)+10\n",
        "X_train, X_test, Y_train, Y_test = train_test_split(X,Y)"
      ],
      "execution_count": 0,
      "outputs": []
    },
    {
      "cell_type": "code",
      "metadata": {
        "id": "3sKqMh_z5UkY",
        "colab_type": "code",
        "colab": {}
      },
      "source": [
        "model = ks.Sequential([\n",
        "    ks.layers.Flatten(input_shape=(64, 12)),\n",
        "    ks.layers.Dense(768, activation=tf.nn.relu),\n",
        "    ks.layers.Dropout(.2),\n",
        "    ks.layers.Dense(1048, activation=tf.nn.relu),\n",
        "    ks.layers.Dropout(.2),\n",
        "    ks.layers.Dense(500, activation=tf.nn.relu),\n",
        "    ks.layers.Dropout(.2),\n",
        "    ks.layers.Dense(50, activation=tf.nn.relu),\n",
        "    ks.layers.Dropout(.2),\n",
        "    ks.layers.Dense(21, activation=tf.nn.softmax)\n",
        "])\n",
        "model.compile(optimizer='adam', \n",
        "              loss='sparse_categorical_crossentropy',\n",
        "              metrics=['accuracy'])"
      ],
      "execution_count": 0,
      "outputs": []
    },
    {
      "cell_type": "code",
      "metadata": {
        "id": "jn-Iaz0e6w4B",
        "colab_type": "code",
        "outputId": "c634ab05-08c1-4599-8e70-a30493473c59",
        "colab": {
          "base_uri": "https://localhost:8080/",
          "height": 537
        }
      },
      "source": [
        "history = model.fit(X_train,Y_train, epochs=15, batch_size = 256, validation_split = .2)"
      ],
      "execution_count": 7,
      "outputs": [
        {
          "output_type": "stream",
          "text": [
            "Epoch 1/15\n",
            "287/287 [==============================] - 21s 75ms/step - loss: 1.1406 - accuracy: 0.6727 - val_loss: 0.8935 - val_accuracy: 0.7659\n",
            "Epoch 2/15\n",
            "287/287 [==============================] - 21s 74ms/step - loss: 0.8267 - accuracy: 0.7959 - val_loss: 0.7821 - val_accuracy: 0.8056\n",
            "Epoch 3/15\n",
            "287/287 [==============================] - 21s 75ms/step - loss: 0.7039 - accuracy: 0.8306 - val_loss: 0.7602 - val_accuracy: 0.8175\n",
            "Epoch 4/15\n",
            "287/287 [==============================] - 21s 75ms/step - loss: 0.6352 - accuracy: 0.8458 - val_loss: 0.7417 - val_accuracy: 0.8223\n",
            "Epoch 5/15\n",
            "287/287 [==============================] - 21s 73ms/step - loss: 0.5832 - accuracy: 0.8557 - val_loss: 0.7488 - val_accuracy: 0.8296\n",
            "Epoch 6/15\n",
            "287/287 [==============================] - 21s 73ms/step - loss: 0.5464 - accuracy: 0.8620 - val_loss: 0.7677 - val_accuracy: 0.8323\n",
            "Epoch 7/15\n",
            "287/287 [==============================] - 21s 73ms/step - loss: 0.5131 - accuracy: 0.8682 - val_loss: 0.7870 - val_accuracy: 0.8294\n",
            "Epoch 8/15\n",
            "287/287 [==============================] - 20s 71ms/step - loss: 0.4889 - accuracy: 0.8724 - val_loss: 0.7928 - val_accuracy: 0.8316\n",
            "Epoch 9/15\n",
            "287/287 [==============================] - 20s 71ms/step - loss: 0.4645 - accuracy: 0.8767 - val_loss: 0.7989 - val_accuracy: 0.8318\n",
            "Epoch 10/15\n",
            "287/287 [==============================] - 20s 71ms/step - loss: 0.4471 - accuracy: 0.8799 - val_loss: 0.8449 - val_accuracy: 0.8302\n",
            "Epoch 11/15\n",
            "287/287 [==============================] - 20s 70ms/step - loss: 0.4243 - accuracy: 0.8843 - val_loss: 0.8660 - val_accuracy: 0.8293\n",
            "Epoch 12/15\n",
            "287/287 [==============================] - 20s 70ms/step - loss: 0.4070 - accuracy: 0.8883 - val_loss: 0.9012 - val_accuracy: 0.8273\n",
            "Epoch 13/15\n",
            "287/287 [==============================] - 20s 71ms/step - loss: 0.3941 - accuracy: 0.8901 - val_loss: 0.9362 - val_accuracy: 0.8295\n",
            "Epoch 14/15\n",
            "287/287 [==============================] - 22s 75ms/step - loss: 0.3780 - accuracy: 0.8930 - val_loss: 0.9274 - val_accuracy: 0.8298\n",
            "Epoch 15/15\n",
            "287/287 [==============================] - 21s 75ms/step - loss: 0.3610 - accuracy: 0.8964 - val_loss: 0.9479 - val_accuracy: 0.8231\n"
          ],
          "name": "stdout"
        }
      ]
    },
    {
      "cell_type": "code",
      "metadata": {
        "id": "vzPAMtfq62D5",
        "colab_type": "code",
        "colab": {
          "base_uri": "https://localhost:8080/",
          "height": 35
        },
        "outputId": "2d52be03-714b-4919-928f-d176a8be8c67"
      },
      "source": [
        "predictions = model.evaluate(X_test, Y_test)"
      ],
      "execution_count": 8,
      "outputs": [
        {
          "output_type": "stream",
          "text": [
            "956/956 [==============================] - 6s 6ms/step - loss: 0.9187 - accuracy: 0.8273\n"
          ],
          "name": "stdout"
        }
      ]
    },
    {
      "cell_type": "code",
      "metadata": {
        "id": "dsiIiw9oCu3g",
        "colab_type": "code",
        "colab": {
          "base_uri": "https://localhost:8080/",
          "height": 35
        },
        "outputId": "7787dd62-ec66-4d13-f3e4-b8bd9e123d8d"
      },
      "source": [
        "print(history.history.keys())"
      ],
      "execution_count": 9,
      "outputs": [
        {
          "output_type": "stream",
          "text": [
            "dict_keys(['loss', 'accuracy', 'val_loss', 'val_accuracy'])\n"
          ],
          "name": "stdout"
        }
      ]
    },
    {
      "cell_type": "code",
      "metadata": {
        "id": "PCXBp-w1xvQ7",
        "colab_type": "code",
        "colab": {
          "base_uri": "https://localhost:8080/",
          "height": 297
        },
        "outputId": "6f295389-b24b-439d-c7cd-5bf7ff39b4ef"
      },
      "source": [
        "from matplotlib import pyplot as plt\n",
        "plt.plot(history.history['accuracy'])\n",
        "plt.xlabel('epoch')\n",
        "plt.ylabel('accuracy')\n",
        "plt.plot(history.history['val_accuracy'])\n",
        "plt.xlabel('epoch')\n",
        "plt.ylabel('accuracy')\n",
        "plt.legend(['train', 'validation'], loc='upper left')"
      ],
      "execution_count": 10,
      "outputs": [
        {
          "output_type": "execute_result",
          "data": {
            "text/plain": [
              "<matplotlib.legend.Legend at 0x7fe94f3bee10>"
            ]
          },
          "metadata": {
            "tags": []
          },
          "execution_count": 10
        },
        {
          "output_type": "display_data",
          "data": {
            "image/png": "[encoded data removed]",
            "text/plain": [
              "<Figure size 432x288 with 1 Axes>"
            ]
          },
          "metadata": {
            "tags": [],
            "needs_background": "light"
          }
        }
      ]
    },
    {
      "cell_type": "code",
      "metadata": {
        "id": "85_a8c5q4f23",
        "colab_type": "code",
        "colab": {
          "base_uri": "https://localhost:8080/",
          "height": 107
        },
        "outputId": "08b49c10-b6d2-4510-ad0b-96b430e258e7"
      },
      "source": [
        "model.save('/content/drive/My Drive/Colab Notebooks/Chess/model', save_format=tf)"
      ],
      "execution_count": 11,
      "outputs": [
        {
          "output_type": "stream",
          "text": [
            "WARNING:tensorflow:From /usr/local/lib/python3.6/dist-packages/tensorflow/python/ops/resource_variable_ops.py:1817: calling BaseResourceVariable.__init__ (from tensorflow.python.ops.resource_variable_ops) with constraint is deprecated and will be removed in a future version.\n",
            "Instructions for updating:\n",
            "If using Keras pass *_constraint arguments to layers.\n",
            "INFO:tensorflow:Assets written to: /content/drive/My Drive/Colab Notebooks/Chess/model/assets\n"
          ],
          "name": "stdout"
        }
      ]
    },
    {
      "cell_type": "code",
      "metadata": {
        "id": "ejPAS_IM459M",
        "colab_type": "code",
        "colab": {}
      },
      "source": [
        ""
      ],
      "execution_count": 0,
      "outputs": []
    }
  ]
}