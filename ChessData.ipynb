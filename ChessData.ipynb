{
  "nbformat": 4,
  "nbformat_minor": 0,
  "metadata": {
    "colab": {
      "name": "ChessData.ipynb",
      "provenance": []
    },
    "kernelspec": {
      "name": "python3",
      "display_name": "Python 3"
    }
  },
  "cells": [
    {
      "cell_type": "markdown",
      "metadata": {
        "id": "HvhyaxwS5-J4",
        "colab_type": "text"
      },
      "source": [
        "## Data Preprocessing for Chess Evaluation Function"
      ]
    },
    {
      "cell_type": "code",
      "metadata": {
        "id": "3t_O4NM8bt4b",
        "colab_type": "code",
        "outputId": "8c82257a-133c-4889-8a07-65ef083f4713",
        "colab": {
          "base_uri": "https://localhost:8080/",
          "height": 35
        }
      },
      "source": [
        "!pip install python-chess --upgrade python-chess"
      ],
      "execution_count": 1,
      "outputs": [
        {
          "output_type": "stream",
          "text": [
            "Requirement already up-to-date: python-chess in /usr/local/lib/python3.6/dist-packages (0.31.2)\n"
          ],
          "name": "stdout"
        }
      ]
    },
    {
      "cell_type": "code",
      "metadata": {
        "id": "EgyAjluMZ0v-",
        "colab_type": "code",
        "colab": {}
      },
      "source": [
        "import chess\n",
        "import chess.pgn\n",
        "import csv\n",
        "import numpy as np\n",
        "from google.colab import drive"
      ],
      "execution_count": 0,
      "outputs": []
    },
    {
      "cell_type": "code",
      "metadata": {
        "id": "El3GzCCwaLcM",
        "colab_type": "code",
        "colab": {}
      },
      "source": [
        "#drive.mount('/content/drive')"
      ],
      "execution_count": 0,
      "outputs": []
    },
    {
      "cell_type": "code",
      "metadata": {
        "id": "XnMziY3TZ7Ce",
        "colab_type": "code",
        "outputId": "ba6e8001-ff57-40dd-b67e-668aadbf3701",
        "colab": {
          "base_uri": "https://localhost:8080/",
          "height": 364
        }
      },
      "source": [
        "# With enough RAM, save all positions and categorized scores from 50,000 games (about 4 million categorized positions)\n",
        "gamecount = 1500\n",
        "\n",
        "# Convert board to bitmap for NN\n",
        "def board_to_bitboard(board):\n",
        "    bitboard = []\n",
        "    for i in range(64):\n",
        "        piece = str(board.piece_at(i))\n",
        "        if piece == 'p':\n",
        "            bitboard.append([-1, 0, 0, 0, 0, 0, 0, 0, 0, 0, 0, 0])\n",
        "        if piece == 'r':\n",
        "            bitboard.append([0, 0, 0, -1, 0, 0, 0, 0, 0, 0, 0, 0])\n",
        "        if piece == 'n':\n",
        "            bitboard.append([0, -1, 0, 0, 0, 0, 0, 0, 0, 0, 0, 0])\n",
        "        if piece == 'b':\n",
        "            bitboard.append([0, 0, -1, 0, 0, 0, 0, 0, 0, 0, 0, 0])\n",
        "        if piece == 'q':\n",
        "            bitboard.append([0, 0, 0, 0, -1, 0, 0, 0, 0, 0, 0, 0])\n",
        "        if piece == 'k':\n",
        "            bitboard.append([0, 0, 0, 0, 0, -1, 0, 0, 0, 0, 0, 0])\n",
        "        if piece == 'P':\n",
        "            bitboard.append([0, 0, 0, 0, 0, 0, 0, 0, 0, 0, 0, 1])\n",
        "        if piece == 'R':\n",
        "            bitboard.append([0, 0, 0, 0, 0, 0, 0, 0, 1, 0, 0, 0])\n",
        "        if piece == 'N':\n",
        "            bitboard.append([0, 0, 0, 0, 0, 0, 0, 0, 0, 0, 1, 0])\n",
        "        if piece == 'B':\n",
        "            bitboard.append([0, 0, 0, 0, 0, 0, 0, 0, 0, 1, 0, 0])\n",
        "        if piece == 'Q':\n",
        "            bitboard.append([0, 0, 0, 0, 0, 0, 0, 1, 0, 0, 0, 0])\n",
        "        if piece == 'K':\n",
        "            bitboard.append([0, 0, 0, 0, 0, 0, 1, 0, 0, 0, 0, 0])\n",
        "        if piece == 'None':\n",
        "            bitboard.append([0, 0, 0, 0, 0, 0, 0, 0, 0, 0, 0, 0])\n",
        "    return bitboard\n",
        "\n",
        "\n",
        "# stockfish scores\n",
        "def get_scores():\n",
        "    with open('/content/drive/My Drive/Colab Notebooks/Chess/data/stockfish.csv', newline='') as rawdata:\n",
        "        scores = []\n",
        "        gamelengths = []\n",
        "        datareader = csv.reader(rawdata, delimiter=',')\n",
        "\n",
        "        i = 0\n",
        "        for row in datareader:\n",
        "            gamescores = row[1]\n",
        "            if len(gamescores.split(\" \")) == 2:\n",
        "                print(\"Skipping game no. \" + str(i) + \": corrupted\")\n",
        "                i += 1\n",
        "                continue\n",
        "            scores.extend(gamescores.split(\" \"))\n",
        "            gamelengths.append(len(gamescores.split(\" \")))\n",
        "            i += 1\n",
        "            if i > gamecount:\n",
        "                break\n",
        "\n",
        "    dfscores = []\n",
        "    for i in range(1, len(scores)):\n",
        "        if scores[i] == 'NA' or scores[i] == '':\n",
        "            scores[i] = 0\n",
        "        if int(scores[i]) > 10:\n",
        "            scores[i] = 10\n",
        "        if int(scores[i]) < -10:\n",
        "            scores[i] = -10\n",
        "        dfscores.append([int(scores[i])])\n",
        "    dfscores = dfscores[:len(dfscores)]\n",
        "    # Prevents err\n",
        "    for i in range(100):\n",
        "        gamelengths.append(0)\n",
        "\n",
        "    return dfscores, gamelengths\n",
        "\n",
        "\n",
        "# Bitmap representation of each position\n",
        "def get_boards(gamelengths):\n",
        "    global scores\n",
        "    boards = []\n",
        "    pgn = open(\"/content/drive/My Drive/Colab Notebooks/Chess/data/data.pgn\")\n",
        "    score_ind = 0\n",
        "\n",
        "    for i in range(gamecount):\n",
        "        game = chess.pgn.read_game(pgn)\n",
        "        board = game.board()\n",
        "\n",
        "        for move in game.mainline_moves():\n",
        "            board.push(move)\n",
        "            boards.append(board_to_bitboard(board))\n",
        "          \n",
        "        # Skip corrupted games\n",
        "        length = (board.fullmove_number)*2 - 2 \n",
        "        if int(length) == 0:\n",
        "          print(\"Skipping game no. \" + str(i+1) + \": corrupted\")\n",
        "          boards = boards[:score_ind]\n",
        "          continue\n",
        "\n",
        "        if i % 100 == 0:\n",
        "            print(\"Up to game no. \" + str(i) + \" saved\")\n",
        "        \n",
        "        score_ind += gamelengths[i+1]\n",
        "    \n",
        "    return boards\n",
        "\n",
        "scores, gamelengths = np.asarray(get_scores())\n",
        "positions = np.asarray(get_boards(gamelengths))\n",
        "\n",
        "print(\"Saving scores of len: \" + str(len(scores)) + \" to data/scores.npy\")\n",
        "np.save(\"/content/drive/My Drive/Colab Notebooks/Chess/data/scores\", scores)\n",
        "print(\"Saving bitmaps of len: \" + str(len(positions)) + \" to data/positions.npy\")\n",
        "np.save(\"/content/drive/My Drive/Colab Notebooks/Chess/data/positions\", positions)\n",
        "\n",
        "print(\"Data saved successfully\")"
      ],
      "execution_count": 4,
      "outputs": [
        {
          "output_type": "stream",
          "text": [
            "Skipping game no. 625: corrupted\n",
            "Up to game no. 0 saved\n",
            "Up to game no. 100 saved\n",
            "Up to game no. 200 saved\n",
            "Up to game no. 300 saved\n",
            "Up to game no. 400 saved\n",
            "Up to game no. 500 saved\n",
            "Up to game no. 600 saved\n",
            "Skipping game no. 625: corrupted\n",
            "Up to game no. 700 saved\n",
            "Up to game no. 800 saved\n",
            "Up to game no. 900 saved\n",
            "Up to game no. 1000 saved\n",
            "Up to game no. 1100 saved\n",
            "Up to game no. 1200 saved\n",
            "Up to game no. 1300 saved\n",
            "Up to game no. 1400 saved\n",
            "Saving scores of len: 122241 to data/scores.npy\n",
            "Saving bitmaps of len: 122241 to data/positions.npy\n",
            "Data saved successfully\n"
          ],
          "name": "stdout"
        }
      ]
    }
  ]
}